{
 "cells": [
  {
   "cell_type": "markdown",
   "metadata": {},
   "source": [
    "<font size = 6, color = \"cyan\"><b> Independent Project I </b></font>\n",
    "\n",
    "<font size = 5, color = \"pink\"><b> HR Analytics: Employee Attrition </b></font>\n",
    "\n",
    "<em><u>This project comprises two parts:</em></u>\n",
    "\n",
    "_1. Dashboard Visualization using Microsoft Power BI_\n",
    "\n",
    "_2. Statistical Insights & Predictions Using Machine Learning_"
   ]
  },
  {
   "cell_type": "markdown",
   "metadata": {},
   "source": [
    "<font size = 4, color = \"gold\"><b> About the Dataset </b></font>\n",
    "* The dataset titled [IBM HR Analytics Employee Attrition & Performance](https://www.kaggle.com/datasets/pavansubhasht/ibm-hr-analytics-attrition-dataset/data) was obtained through Kaggle\n",
    "* It's a fictional dataset containing <u>1470 records and 35 attributes</u> (e.g., job satisfaction, job role, education, performance rating, years with current manager, etc.) with the <u>class being Attrition</u> (Yes/No Binary Variable)"
   ]
  }
 ],
 "metadata": {
  "kernelspec": {
   "display_name": "deep_learning1",
   "language": "python",
   "name": "python3"
  },
  "language_info": {
   "name": "python",
   "version": "3.9.18"
  }
 },
 "nbformat": 4,
 "nbformat_minor": 2
}
